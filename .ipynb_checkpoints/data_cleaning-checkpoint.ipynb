{
 "cells": [
  {
   "cell_type": "markdown",
   "metadata": {},
   "source": [
    "# Epidemia Data Cleaning and Analysis\n",
    "### Sneha Sridhar, Agnibho Roy"
   ]
  },
  {
   "cell_type": "code",
   "execution_count": 1,
   "metadata": {},
   "outputs": [
    {
     "data": {
      "text/html": [
       "\n",
       "<style>\n",
       ".output_png {\n",
       "    display: table-cell;\n",
       "    text-align: center;\n",
       "    vertical-align: middle;\n",
       "}\n",
       "</style>\n"
      ],
      "text/plain": [
       "<IPython.core.display.HTML object>"
      ]
     },
     "execution_count": 1,
     "metadata": {},
     "output_type": "execute_result"
    }
   ],
   "source": [
    "#import necessary libraries and modules\n",
    "import numpy as np\n",
    "import pandas as pd\n",
    "import matplotlib.pyplot as plt\n",
    "\n",
    "from IPython.core.display import HTML\n",
    "HTML(\"\"\"\n",
    "<style>\n",
    ".output_png {\n",
    "    display: table-cell;\n",
    "    text-align: center;\n",
    "    vertical-align: middle;\n",
    "}\n",
    "</style>\n",
    "\"\"\")"
   ]
  },
  {
   "cell_type": "code",
   "execution_count": 66,
   "metadata": {},
   "outputs": [],
   "source": [
    "#load data into dataframes\n",
    "covid_cases = pd.read_csv(\"data/covid_cases_county.csv\")\n",
    "covid_deaths = pd.read_csv(\"data/covid_deaths_county.csv\")\n",
    "covid_recovered_g = pd.read_csv(\"data/covid_recovered_global.csv\")\n",
    "covid_census = pd.read_csv(\"data/census_county.csv\", encoding='latin-1')\n",
    "covid_locations = pd.read_csv(\"data/county_locations.csv\")"
   ]
  },
  {
   "cell_type": "markdown",
   "metadata": {},
   "source": [
    "## 1. Preliminary Visualization\n",
    "\n",
    "We want to first see whether or not the cases and deaths in the united states accross all of the counties does indeed resemble an SIRD model. Below shows a plot of cases and deaths over time (measured in days after 1/22/2020)"
   ]
  },
  {
   "cell_type": "code",
   "execution_count": 3,
   "metadata": {},
   "outputs": [
    {
     "data": {
      "image/png": "[encoded data removed]",
      "text/plain": [
       "<Figure size 432x288 with 1 Axes>"
      ]
     },
     "metadata": {},
     "output_type": "display_data"
    }
   ],
   "source": [
    "#visualization of cumulative counts to see similarity to SIDS model\n",
    "cases_cumulative = []\n",
    "deaths_cumulative = []\n",
    "for column in covid_cases.columns[4:]:\n",
    "    cases_cumulative.append(np.sum(covid_cases[column]))\n",
    "    deaths_cumulative.append(np.sum(covid_deaths[column]))\n",
    "    \n",
    "plt.plot(np.arange(len(cases_cumulative)), cases_cumulative)\n",
    "plt.plot(np.arange(len(deaths_cumulative)), deaths_cumulative)\n",
    "plt.title(\"United States Cases and Deaths vs Time\")\n",
    "plt.xlabel(\"Time (days after 1/22/2020)\")\n",
    "plt.ylabel(\"Count\")\n",
    "plt.show()"
   ]
  },
  {
   "cell_type": "markdown",
   "metadata": {},
   "source": [
    "## 2. Data Cleaning\n",
    "\n",
    "We now proceed with data cleaning where we only choose the necessarily information from each of the tables loaded. This means choosing columns, combining and joining data, and interpolation of datasets that we do not have the granularity of county-level data (ex. recovered individuals is only provided per nation). there are a few key data structures that are outputted which are to be used by the model:\n",
    "\n",
    "1. `covid_data`: Nested dictionaries that provide a heirarchy of data. The first level has `stateFIPS` as the keys, which maps to the second level dictionary, which has `countyFIPS` as the keys, which maps to the third level dictionary, which has `date` as the keys, which maps to the fourth level dictionary, which has the `cases`, `deaths`, and `recovered` as keys, which each map to their respective values. To see what the county and state names `stateFIPS` and `countyFIPS` map to, use the lookup dictionaries in part (4) and (5). \n",
    "2. `population_data`: Nested dictionaries that provide a heirarchy of data. The first level has `stateFIPS` as the keys, which maps to the second level dictionary, which has `countyFIPS` as the keys, which maps to the third level dictionary, which has the `birth_rate`, `death_rate` (will be scaled to a daily value to provide the parameters $\\lambda_{i}$ and $\\mu_{i}$ in our model, respectively.), and `total_pop` as keys, which each map to their respective values. To see what the county and state names `stateFIPS` and `countyFIPS` map to, use the lookup dictionaries in part (4) and (5). \n",
    "3. `location_data`: Nested dictionaries that provide a heirarchy of data. The first level has `countyFIPS` as the keys, which maps to the second level dictionary, which has the `latitude` and `longitude` as keys, each mapping to their respective values.\n",
    "4. `FIPS_to_state`: Lookup dictionary mapping `stateFIPS` to `state`\n",
    "5. `FIPS_to_county`: Lookup dictionary mapping `countyFIPS` to `county`"
   ]
  },
  {
   "cell_type": "code",
   "execution_count": 45,
   "metadata": {},
   "outputs": [],
   "source": [
    "covid_census_cleaned = covid_census.loc[:, [col for col in covid_census.columns[:7]] + [\"POPESTIMATE2019\", \"BIRTHS2019\", \"DEATHS2019\"]]\n",
    "covid_recovered_US = covid_recovered_g[covid_recovered_g[\"Country/Region\"] == \"US\"]\n",
    "\n",
    "#creating recovered table by scaling number infected for each county\n",
    "covid_recovered = {}\n",
    "for column in covid_cases.columns[:4]:\n",
    "    covid_recovered[column] = covid_cases.loc[:, column].values\n",
    "for date in covid_cases.columns[4:]:\n",
    "    cases_singleday_scaled = np.array(covid_cases.loc[:, date]) / np.sum(covid_cases.loc[:, date])\n",
    "    recovered_singleday = covid_recovered_US.loc[:, date].values[0] * cases_singleday_scaled\n",
    "    covid_recovered[date] = recovered_singleday.astype(int)\n",
    "covid_recovered = pd.DataFrame(data=covid_recovered)"
   ]
  },
  {
   "cell_type": "code",
   "execution_count": 26,
   "metadata": {},
   "outputs": [],
   "source": [
    "#creating data_final structure holding cases, deaths, recovered, etc. in nested dicts\n",
    "covid_data = {}\n",
    "for state_id in covid_cases.loc[:, \"stateFIPS\"].unique():\n",
    "    state_cases = covid_cases[covid_cases[\"stateFIPS\"] == state_id]\n",
    "    state_deaths = covid_deaths[covid_deaths[\"stateFIPS\"] == state_id]\n",
    "    state_recovered = covid_recovered[covid_recovered[\"stateFIPS\"] == state_id]\n",
    "    county_final = {}\n",
    "    for county_id in state_cases.loc[:, \"countyFIPS\"].unique():\n",
    "        county_cases = state_cases[state_cases[\"countyFIPS\"] == county_id]\n",
    "        county_deaths = state_deaths[state_deaths[\"countyFIPS\"] == county_id]\n",
    "        county_recovered = state_recovered[state_recovered[\"countyFIPS\"] == county_id]\n",
    "        stats_by_date = {}\n",
    "        for date in covid_cases.columns[4:]:\n",
    "            stats_single = {}\n",
    "            stats_single[\"cases\"] = county_cases.loc[:, date].values[0]\n",
    "            stats_single[\"deaths\"] = county_deaths.loc[:, date].values[0]\n",
    "            stats_single[\"recovered\"] = county_recovered.loc[:, date].values[0]\n",
    "            stats_by_date[date] = stats_single\n",
    "        county_final[county_id] = stats_by_date\n",
    "    covid_data[state_id] = county_final"
   ]
  },
  {
   "cell_type": "code",
   "execution_count": 71,
   "metadata": {},
   "outputs": [],
   "source": [
    "#creating population_data to keep each county's birth and death rate, along with the total population for 2019\n",
    "population_data = {}\n",
    "for state_id in covid_census_cleaned.loc[:, \"STATE\"].unique():\n",
    "    state_pop_data = covid_census_cleaned[covid_census_cleaned[\"STATE\"] == state_id]\n",
    "    county_final = {}\n",
    "    for county_id in state_pop_data.loc[:, \"COUNTY\"].unique():\n",
    "        county_pop_data = state_pop_data[state_pop_data[\"COUNTY\"] == county_id]\n",
    "        stats_pop = {}\n",
    "        stats_pop[\"total_pop\"] = county_pop_data.loc[:, \"POPESTIMATE2019\"].values[0]\n",
    "        stats_pop[\"birth_rate\"] = county_pop_data.loc[:, \"BIRTHS2019\"].values[0] / stats_pop[\"total_pop\"]\n",
    "        stats_pop[\"death_rate\"] = county_pop_data.loc[:, \"DEATHS2019\"].values[0] / stats_pop[\"total_pop\"]\n",
    "        county_final[county_id + state_id * 1000] = stats_pop\n",
    "    population_data[state_id] = county_final  "
   ]
  },
  {
   "cell_type": "code",
   "execution_count": 74,
   "metadata": {},
   "outputs": [],
   "source": [
    "#creating location_data to keep latitude and longitude information for diffusion matrices\n",
    "location_data = {}\n",
    "county_id = np.array(covid_locations.loc[:, \"FIPS\"]).astype(int)\n",
    "latitudes = np.array(covid_locations.loc[:, \"Lat\"])\n",
    "longitudes = np.array(covid_locations.loc[:, \"Long_\"])\n",
    "for i in range(len(county_id)):\n",
    "    county_data = {}\n",
    "    county_data[\"lat\"] = latitudes.item(i)\n",
    "    county_data[\"long\"] = longitudes.item(i)\n",
    "    location_data[county_id.item(i)] = county_data"
   ]
  },
  {
   "cell_type": "code",
   "execution_count": 75,
   "metadata": {},
   "outputs": [],
   "source": [
    "#creating lookup tables as mentioned in parts (3) and (4)\n",
    "FIPS_to_state = {}\n",
    "FIPS_to_county = {}\n",
    "stateFIPS = np.array(covid_cases.loc[:, \"stateFIPS\"])\n",
    "countyFIPS = np.array(covid_cases.loc[:, \"countyFIPS\"])\n",
    "state_name = np.array(covid_cases.loc[:, \"State\"])\n",
    "county_name = np.array(covid_cases.loc[:, \"County Name\"])\n",
    "for i in range(len(stateFIPS)):\n",
    "    FIPS_to_state[stateFIPS.item(i)] = state_name.item(i)\n",
    "    FIPS_to_county[countyFIPS.item(i)] = county_name.item(i)"
   ]
  },
  {
   "cell_type": "code",
   "execution_count": null,
   "metadata": {},
   "outputs": [],
   "source": []
  },
  {
   "cell_type": "code",
   "execution_count": null,
   "metadata": {},
   "outputs": [],
   "source": []
  }
 ],
 "metadata": {
  "kernelspec": {
   "display_name": "Python 3",
   "language": "python",
   "name": "python3"
  },
  "language_info": {
   "codemirror_mode": {
    "name": "ipython",
    "version": 3
   },
   "file_extension": ".py",
   "mimetype": "text/x-python",
   "name": "python",
   "nbconvert_exporter": "python",
   "pygments_lexer": "ipython3",
   "version": "3.6.5"
  }
 },
 "nbformat": 4,
 "nbformat_minor": 2
}
