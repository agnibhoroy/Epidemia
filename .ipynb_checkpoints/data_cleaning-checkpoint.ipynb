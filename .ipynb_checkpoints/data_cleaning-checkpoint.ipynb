{
 "cells": [
  {
   "cell_type": "markdown",
   "metadata": {},
   "source": [
    "# Epidemia Data Cleaning and Analysis\n",
    "### Sneha Sridhar, Agnibho Roy"
   ]
  },
  {
   "cell_type": "code",
   "execution_count": 1,
   "metadata": {},
   "outputs": [
    {
     "data": {
      "text/html": [
       "\n",
       "<style>\n",
       ".output_png {\n",
       "    display: table-cell;\n",
       "    text-align: center;\n",
       "    vertical-align: middle;\n",
       "}\n",
       "</style>\n"
      ],
      "text/plain": [
       "<IPython.core.display.HTML object>"
      ]
     },
     "execution_count": 1,
     "metadata": {},
     "output_type": "execute_result"
    }
   ],
   "source": [
    "#import necessary libraries and modules\n",
    "import numpy as np\n",
    "import pandas as pd\n",
    "import matplotlib.pyplot as plt\n",
    "\n",
    "from IPython.core.display import HTML\n",
    "HTML(\"\"\"\n",
    "<style>\n",
    ".output_png {\n",
    "    display: table-cell;\n",
    "    text-align: center;\n",
    "    vertical-align: middle;\n",
    "}\n",
    "</style>\n",
    "\"\"\")"
   ]
  },
  {
   "cell_type": "code",
   "execution_count": 78,
   "metadata": {},
   "outputs": [],
   "source": [
    "#load data into dataframes\n",
    "covid_cases = pd.read_csv(\"data/covid_cases_county.csv\")\n",
    "covid_cases = covid_cases[covid_cases[\"countyFIPS\"] != 0]\n",
    "covid_deaths = pd.read_csv(\"data/covid_deaths_county.csv\")\n",
    "covid_recovered_g = pd.read_csv(\"data/covid_recovered_global.csv\")\n",
    "covid_census = pd.read_csv(\"data/census_county.csv\", encoding='latin-1')\n",
    "covid_locations = pd.read_csv(\"data/county_locations.csv\")"
   ]
  },
  {
   "cell_type": "markdown",
   "metadata": {},
   "source": [
    "## 1. Preliminary Visualization\n",
    "\n",
    "We want to first see whether or not the cases and deaths in the united states accross all of the counties does indeed resemble an SIRD model. Below shows a plot of cases and deaths over time (measured in days after 1/22/2020)"
   ]
  },
  {
   "cell_type": "code",
   "execution_count": 38,
   "metadata": {},
   "outputs": [
    {
     "data": {
      "image/png": "[encoded data removed]",
      "text/plain": [
       "<Figure size 432x288 with 1 Axes>"
      ]
     },
     "metadata": {},
     "output_type": "display_data"
    }
   ],
   "source": [
    "#visualization of cumulative counts to see similarity to SIDS model\n",
    "cases_cumulative = []\n",
    "deaths_cumulative = []\n",
    "for column in covid_cases.columns[4:]:\n",
    "    cases_cumulative.append(np.sum(covid_cases[column]))\n",
    "    deaths_cumulative.append(np.sum(covid_deaths[column]))\n",
    "    \n",
    "plt.plot(np.arange(len(cases_cumulative)), cases_cumulative)\n",
    "plt.plot(np.arange(len(deaths_cumulative)), deaths_cumulative)\n",
    "plt.title(\"United States Cases and Deaths vs Time\")\n",
    "plt.xlabel(\"Time (days after 1/22/2020)\")\n",
    "plt.ylabel(\"Count\")\n",
    "plt.show()"
   ]
  },
  {
   "cell_type": "markdown",
   "metadata": {},
   "source": [
    "## 2. Data Cleaning\n",
    "\n",
    "We now proceed with data cleaning where we only choose the necessarily information from each of the tables loaded. This means choosing columns, combining and joining data, and interpolation of datasets that we do not have the granularity of county-level data (ex. recovered individuals is only provided per nation). there are a few key data structures that are outputted which are to be used by the model:\n",
    "\n",
    "1. `covid_data`: Nested dictionaries that provide a heirarchy of data. The first level has `stateFIPS` as the keys, which maps to the second level dictionary, which has `countyFIPS` as the keys, which maps to the third level dictionary, which has `date` as the keys, which maps to the fourth level dictionary, which has the `cases`, `deaths`, and `recovered` as keys, which each map to their respective values. To see what the county and state names `stateFIPS` and `countyFIPS` map to, use the lookup dictionaries in part (4) and (5). \n",
    "2. `population_data`: Nested dictionaries that provide a heirarchy of data. The first level has `stateFIPS` as the keys, which maps to the second level dictionary, which has `countyFIPS` as the keys, which maps to the third level dictionary, which has the `birth_rate`, `death_rate` (will be scaled to a daily value to provide the parameters $\\lambda_{i}$ and $\\mu_{i}$ in our model, respectively.), and `total_pop` as keys, which each map to their respective values. To see what the county and state names `stateFIPS` and `countyFIPS` map to, use the lookup dictionaries in part (4) and (5). \n",
    "3. `location_data`: Nested dictionaries that provide a heirarchy of data. The first level has `countyFIPS` as the keys, which maps to the second level dictionary, which has the `latitude` and `longitude` as keys, each mapping to their respective values.\n",
    "4. `FIPS_to_state`: Lookup dictionary mapping `stateFIPS` to `state`\n",
    "5. `FIPS_to_county`: Lookup dictionary mapping `countyFIPS` to `county`"
   ]
  },
  {
   "cell_type": "markdown",
   "metadata": {},
   "source": [
    "### Covid Recovered Cleaning\n",
    "Here, we scale the number of recovered for each county to the number infected in each county since we only have the total number recovered in the United States as a whole."
   ]
  },
  {
   "cell_type": "code",
   "execution_count": 39,
   "metadata": {},
   "outputs": [],
   "source": [
    "covid_census_cleaned = covid_census.loc[:, [col for col in covid_census.columns[:7]] + [\"POPESTIMATE2019\", \"BIRTHS2019\", \"DEATHS2019\"]]\n",
    "covid_recovered_US = covid_recovered_g[covid_recovered_g[\"Country/Region\"] == \"US\"]\n",
    "\n",
    "#creating recovered table by scaling number infected for each county\n",
    "covid_recovered = {}\n",
    "for column in covid_cases.columns[:4]:\n",
    "    covid_recovered[column] = covid_cases.loc[:, column].values\n",
    "for date in covid_cases.columns[4:]:\n",
    "    cases_singleday_scaled = np.array(covid_cases.loc[:, date]) / np.sum(covid_cases.loc[:, date])\n",
    "    recovered_singleday = covid_recovered_US.loc[:, date].values[0] * cases_singleday_scaled\n",
    "    covid_recovered[date] = recovered_singleday.astype(int)\n",
    "covid_recovered = pd.DataFrame(data=covid_recovered)"
   ]
  },
  {
   "cell_type": "markdown",
   "metadata": {},
   "source": [
    "### Covid Data Final\n",
    "Here, we calculate the `covid_data` dictionary that is a hierarchical representation of all of the data for each date, for each county in each state. Later on, we have to throw out some counties since we do not have any of the total population data because we cannot calculate the total number of susceptible if we do not have that information."
   ]
  },
  {
   "cell_type": "code",
   "execution_count": 40,
   "metadata": {},
   "outputs": [],
   "source": [
    "#creating data_final structure holding cases, deaths, recovered, etc. in nested dicts\n",
    "covid_data = {}\n",
    "for state_id in covid_cases.loc[:, \"stateFIPS\"].unique():\n",
    "    state_cases = covid_cases[covid_cases[\"stateFIPS\"] == state_id]\n",
    "    state_deaths = covid_deaths[covid_deaths[\"stateFIPS\"] == state_id]\n",
    "    state_recovered = covid_recovered[covid_recovered[\"stateFIPS\"] == state_id]\n",
    "    county_final = {}\n",
    "    for county_id in state_cases.loc[:, \"countyFIPS\"].unique():\n",
    "        county_cases = state_cases[state_cases[\"countyFIPS\"] == county_id]\n",
    "        county_deaths = state_deaths[state_deaths[\"countyFIPS\"] == county_id]\n",
    "        county_recovered = state_recovered[state_recovered[\"countyFIPS\"] == county_id]\n",
    "        stats_by_date = {}\n",
    "        for date in covid_cases.columns[4:]:\n",
    "            stats_single = {}\n",
    "            stats_single[\"cases\"] = county_cases.loc[:, date].values[0]\n",
    "            stats_single[\"deaths\"] = county_deaths.loc[:, date].values[0]\n",
    "            stats_single[\"recovered\"] = county_recovered.loc[:, date].values[0]\n",
    "            stats_by_date[date] = stats_single\n",
    "        county_final[county_id] = stats_by_date\n",
    "    covid_data[state_id] = county_final"
   ]
  },
  {
   "cell_type": "markdown",
   "metadata": {},
   "source": [
    "### Population Data Final\n",
    "Here, we keep the total population of each of the counties in each of the states in `population_data`, as well as the birth and death rates in the percentage of the total population in the year that we have births in a day. This will be helpful later on when calculating the total population for indidividual dates (the population growth) in the year since we only have the information about the yearly death and birth rates. "
   ]
  },
  {
   "cell_type": "code",
   "execution_count": 41,
   "metadata": {},
   "outputs": [],
   "source": [
    "#creating population_data to keep each county's birth and death rate, along with the total population for 2019\n",
    "population_data = {}\n",
    "for state_id in covid_census_cleaned.loc[:, \"STATE\"].unique():\n",
    "    state_pop_data = covid_census_cleaned[covid_census_cleaned[\"STATE\"] == state_id]\n",
    "    county_final = {}\n",
    "    for county_id in state_pop_data.loc[:, \"COUNTY\"].unique():\n",
    "        county_pop_data = state_pop_data[state_pop_data[\"COUNTY\"] == county_id]\n",
    "        stats_pop = {}\n",
    "        stats_pop[\"total_pop\"] = county_pop_data.loc[:, \"POPESTIMATE2019\"].values[0]\n",
    "        stats_pop[\"birth_rate\"] = county_pop_data.loc[:, \"BIRTHS2019\"].values[0] / (stats_pop[\"total_pop\"] * 365)\n",
    "        stats_pop[\"death_rate\"] = county_pop_data.loc[:, \"DEATHS2019\"].values[0] / (stats_pop[\"total_pop\"] * 365)\n",
    "        county_final[county_id + state_id * 1000] = stats_pop\n",
    "    population_data[state_id] = county_final"
   ]
  },
  {
   "cell_type": "markdown",
   "metadata": {},
   "source": [
    "### Location Data Final\n",
    "Here, we calculate the `location_data`, which allows us to perform the diffusion matrices when we are doing the stochastic modeling of individuals moving over time between each of the counties. It will also help when we are trying to overlay the data onto a map."
   ]
  },
  {
   "cell_type": "code",
   "execution_count": 42,
   "metadata": {},
   "outputs": [],
   "source": [
    "#creating location_data to keep latitude and longitude information for diffusion matrices\n",
    "location_data = {}\n",
    "county_id = np.array(covid_locations.loc[:, \"FIPS\"]).astype(int)\n",
    "latitudes = np.array(covid_locations.loc[:, \"Lat\"])\n",
    "longitudes = np.array(covid_locations.loc[:, \"Long_\"])\n",
    "for i in range(len(county_id)):\n",
    "    county_data = {}\n",
    "    county_data[\"lat\"] = latitudes.item(i)\n",
    "    county_data[\"long\"] = longitudes.item(i)\n",
    "    location_data[county_id.item(i)] = county_data"
   ]
  },
  {
   "cell_type": "markdown",
   "metadata": {},
   "source": [
    "### Lookup Tables\n",
    "This will help in creating meaning out of the `stateFIPS` and `countyFIPS` numbers since we do not know what they mean. The values in each of the dictionaries will tell us the actual names of the state or county of interest."
   ]
  },
  {
   "cell_type": "code",
   "execution_count": 43,
   "metadata": {},
   "outputs": [],
   "source": [
    "#creating lookup tables as mentioned in parts (3) and (4)\n",
    "FIPS_to_state = {}\n",
    "FIPS_to_county = {}\n",
    "stateFIPS = np.array(covid_cases.loc[:, \"stateFIPS\"])\n",
    "countyFIPS = np.array(covid_cases.loc[:, \"countyFIPS\"])\n",
    "state_name = np.array(covid_cases.loc[:, \"State\"])\n",
    "county_name = np.array(covid_cases.loc[:, \"County Name\"])\n",
    "for i in range(len(stateFIPS)):\n",
    "    FIPS_to_state[stateFIPS.item(i)] = state_name.item(i)\n",
    "    FIPS_to_county[countyFIPS.item(i)] = county_name.item(i)"
   ]
  },
  {
   "cell_type": "markdown",
   "metadata": {},
   "source": [
    "### Adding Susceptible and Population Counts\n",
    "Here, we use the birth and death rates and the total population to show the total population in each county, every day. Then we simply take the difference between the total population and the other states to find the number of individuals susceptible, since they are just the rest of the population. "
   ]
  },
  {
   "cell_type": "code",
   "execution_count": 77,
   "metadata": {},
   "outputs": [],
   "source": [
    "#adding population data and susceptible data into covid_data by using birth and death rates\n",
    "for state_id in covid_data.keys():\n",
    "    counties = covid_data.get(state_id)\n",
    "    pop_all_counties = population_data.get(state_id)\n",
    "    for county_id in counties.keys():\n",
    "        dates = counties.get(county_id)\n",
    "        if not pop_all_counties.get(county_id):\n",
    "            counties.pop(county_id)\n",
    "            break;\n",
    "        county_pop = pop_all_counties.get(county_id).get(\"total_pop\")\n",
    "        county_birth = pop_all_counties.get(county_id).get(\"birth_rate\")\n",
    "        county_death = pop_all_counties.get(county_id).get(\"death_rate\")\n",
    "        for i, date in zip([i for i in range(len(dates.keys()))], dates.keys()):\n",
    "            data_point = dates.get(date)\n",
    "            data_point[\"population\"] = county_pop * (1 + i * (county_birth - county_death))\n",
    "            data_point[\"susceptible\"] = data_point[\"population\"] - (data_point[\"cases\"] + data_point[\"deaths\"] + data_point[\"recovered\"])"
   ]
  }
 ],
 "metadata": {
  "kernelspec": {
   "display_name": "Python 3",
   "language": "python",
   "name": "python3"
  },
  "language_info": {
   "codemirror_mode": {
    "name": "ipython",
    "version": 3
   },
   "file_extension": ".py",
   "mimetype": "text/x-python",
   "name": "python",
   "nbconvert_exporter": "python",
   "pygments_lexer": "ipython3",
   "version": "3.6.5"
  }
 },
 "nbformat": 4,
 "nbformat_minor": 2
}
