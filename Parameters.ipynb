{
 "cells": [
  {
   "cell_type": "code",
   "execution_count": 11,
   "metadata": {},
   "outputs": [],
   "source": [
    "import numpy as np\n",
    "import pandas as pd\n",
    "import statsmodels.api as sm\n",
    "from sklearn import linear_model"
   ]
  },
  {
   "cell_type": "code",
   "execution_count": 18,
   "metadata": {},
   "outputs": [],
   "source": [
    "def travel_prob(distances, populations):\n",
    "    \"\"\" \n",
    "    Finds transition probabilities for traveling from each county to each other county.\n",
    "    \n",
    "    Input:\n",
    "        distances: matrix with distances between each pair of county\n",
    "        populations: array with population of each county (indices correspond to those of distances matrix)\n",
    "    \n",
    "    Output:\n",
    "        pi: matrix of transition probabilities\n",
    "    \"\"\"\n",
    "    l = len(populations)\n",
    "    pi = np.zeros((l, l))\n",
    "    for i in range(l - 1):\n",
    "        pop_i = populations[i]\n",
    "        for j in range(i + 1, l):\n",
    "            pop_j = populations[j]\n",
    "            dist = distances[i][j]\n",
    "            pi_for = (pop_j / pop_i) / dist\n",
    "            pi_back = (pop_i / pop_j) / dist\n",
    "#            threshold = pop_i / pop_j\n",
    "#             if (threshold <= 0.5):\n",
    "#                 pi_for = (1 / threshold) / dist\n",
    "#                 pi_back = pi_for\n",
    "#             elif (threshold >= 2):\n",
    "#                 pi_for = threshold / dist\n",
    "#                 pi_back = pi_for\n",
    "#             else:\n",
    "#                 pi_for = pop_i / dist\n",
    "#                 pi_back = pop_j / dist\n",
    "            pi[i, j] = pi_for\n",
    "            pi[j, i] = pi_back\n",
    "    return pi"
   ]
  },
  {
   "cell_type": "markdown",
   "metadata": {},
   "source": [
    "Finding Constants\n",
    "* need constants for recovery rate, disease death rate, sickness rate\n",
    "* recovery rate and disease death rate should be time-dependent\n",
    "* sickness rate would just depend on susceptible, infected, and total population (until a vacine shows up)"
   ]
  },
  {
   "cell_type": "code",
   "execution_count": 20,
   "metadata": {},
   "outputs": [
    {
     "ename": "SyntaxError",
     "evalue": "invalid syntax (<ipython-input-20-8841aa01592d>, line 40)",
     "output_type": "error",
     "traceback": [
      "\u001b[1;36m  File \u001b[1;32m\"<ipython-input-20-8841aa01592d>\"\u001b[1;36m, line \u001b[1;32m40\u001b[0m\n\u001b[1;33m    pop_lambda = self.lambda * population[:-1].copy()\u001b[0m\n\u001b[1;37m                           ^\u001b[0m\n\u001b[1;31mSyntaxError\u001b[0m\u001b[1;31m:\u001b[0m invalid syntax\n"
     ]
    }
   ],
   "source": [
    "class County:\n",
    "    def __init__(self, covid_data, population_data, location_data):\n",
    "        self.covid_data = covid_data\n",
    "        self.population_data = population_data\n",
    "        self.location_data = location_data\n",
    "        # self.mu = natural death rate\n",
    "        # self.lambda = natural birth rate\n",
    "        \n",
    "    def least_squares(self):\n",
    "        \"\"\"\"\n",
    "        Uses linear least squares to find estimates for parameters delta, gamma, and beta.\n",
    "        \"\"\"\n",
    "        cases = []\n",
    "        deaths = []\n",
    "        recovered = []\n",
    "        for date in self.covid_data:\n",
    "            cases.append(self.covid_data[data][0])\n",
    "            deaths.append(self.covid_data[data][1])\n",
    "            recovered.append(self.covid_data[data][2])\n",
    "        cases = np.array(cases)\n",
    "        deaths = np.array(deaths)\n",
    "        recovered = np.array(recovered)\n",
    "        # susceptible array\n",
    "        # population array\n",
    "        \n",
    "        # Find delta using D(t + 1) - D(t)\n",
    "        deaths_diff = np.diff(death)\n",
    "        cases_adjusted = cases[:-1].copy()\n",
    "        self.delta = np.linalg.inv(cases_adjusted @ cases_adjusted.T) @ cases_adjusted @ deaths_diff.T\n",
    "        \n",
    "        # Find gamma using R(t + 1) - (1 - mu)R(t)\n",
    "        recovered_mu = (1 - self.mu) * recovered[:-1].copy()\n",
    "        recovered_next = recovered[1:].copy()\n",
    "        recovered_diff = recovered_next - recovered_mu\n",
    "        self.gamma = np.linalg.inv(cases_adjusted @ cases_adjusted.T) @ cases_adjusted @ recovered_diff.T\n",
    "        \n",
    "        # Find beta using S(t + 1) - (lambda + (1 - mu)S(t))\n",
    "        beta_A = -1 * np.divide(np.multiply(susceptible[:-1].copy(), cases[:-1].copy()), population[:-1].copy())\n",
    "        susceptible_mu = (1 - self.mu) * susceptible[:-1].copy()\n",
    "        pop_lambda = self.lambda * population[:-1].copy()\n",
    "        susceptible_next = susceptible[:1].copy()\n",
    "        susceptible_diff = susceptible_next - pop_lambda - susceptible_mu\n",
    "        self.beta = np.linalg.inv(beta_A @ beta_A.T) @ beta_A @ susceptible_diff.T\n",
    "        \n",
    "#         lm = linear_model.LinearRegression()\n",
    "#         _ = lm.fit(cases, recovered)\n",
    "#         gamma = lm.coef_\n",
    "#         gamma_int = lm.intercept_\n",
    "#         lm = linear_model.LinearRegression()\n",
    "#         _ = lm.fit(cases, deaths)\n",
    "#         delta = lm.coef_\n",
    "#         delta_int = lm.intercept_"
   ]
  },
  {
   "cell_type": "code",
   "execution_count": null,
   "metadata": {},
   "outputs": [],
   "source": []
  }
 ],
 "metadata": {
  "kernelspec": {
   "display_name": "Python 3",
   "language": "python",
   "name": "python3"
  },
  "language_info": {
   "codemirror_mode": {
    "name": "ipython",
    "version": 3
   },
   "file_extension": ".py",
   "mimetype": "text/x-python",
   "name": "python",
   "nbconvert_exporter": "python",
   "pygments_lexer": "ipython3",
   "version": "3.7.1"
  }
 },
 "nbformat": 4,
 "nbformat_minor": 2
}
